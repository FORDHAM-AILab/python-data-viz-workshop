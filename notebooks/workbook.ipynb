{
 "cells": [
  {
   "cell_type": "markdown",
   "id": "072bbe18-4d1b-46c5-b851-9265b9e85bfd",
   "metadata": {},
   "source": [
    "# Workbook\n",
    "\n",
    "Use this notebook to complete the exercises throughout the workshop.\n",
    "\n",
    "#### Table of Contents\n",
    "- [Section 1 &ndash; Getting Started with Matplotlib](#Section-1)\n",
    "- [Section 2 &ndash; Moving Beyond Static Visualizations](#Section-2)\n",
    "\n",
    "--- \n",
    "\n",
    "### Section 1\n",
    "\n",
    "#### Exercise 1.1\n",
    "##### Using the data in `weather.csv`, plot the daily average temperature (`TAVG`) for both LA and NYC. Fill in all sections where NYC's daily average temperature was higher than LA's in 2020."
   ]
  },
  {
   "cell_type": "code",
   "execution_count": null,
   "id": "d31c8a06-1c28-4b0d-8040-6028e79110aa",
   "metadata": {},
   "outputs": [],
   "source": []
  },
  {
   "cell_type": "markdown",
   "id": "edc863b1-503d-4516-9926-ca21d6864cfc",
   "metadata": {},
   "source": [
    "#### Exercise 1.2\n",
    "##### Using the data in `weather.csv`, make a vertical bar plot showing total monthly precipitation (`PRCP`) in Seattle. Annotate the bars."
   ]
  },
  {
   "cell_type": "code",
   "execution_count": null,
   "id": "8c3c2cf3-8963-465f-bcdd-c76714705a49",
   "metadata": {},
   "outputs": [],
   "source": []
  },
  {
   "cell_type": "markdown",
   "id": "1a81df64-0d1f-4d2e-95da-af4f77875bb8",
   "metadata": {
    "slideshow": {
     "slide_type": "subslide"
    },
    "tags": []
   },
   "source": [
    "#### Exercise 1.3\n",
    "##### Using the data in `weather.csv`, create a stacked horizontal bar plot of total precipitation per city per quarter (each city will have four segments &ndash; one for the total precipitation in each quarter of the year). Add a vertical line at Seattle's total precipitation."
   ]
  },
  {
   "cell_type": "code",
   "execution_count": null,
   "id": "a7fb2637-95a3-4805-ac35-edd4059c3c95",
   "metadata": {},
   "outputs": [],
   "source": []
  },
  {
   "cell_type": "markdown",
   "id": "dd83c615-f61f-4f56-bcec-1958d53d53c3",
   "metadata": {
    "slideshow": {
     "slide_type": "subslide"
    },
    "tags": []
   },
   "source": [
    "#### Exercise 1.4\n",
    "##### Using the data in `weather.csv`, generate histograms for the daily average wind (`AWND`) in each of the cities. Make sure to use subplots that share both the x- and y-axis."
   ]
  },
  {
   "cell_type": "code",
   "execution_count": null,
   "id": "678dfc33-8a05-424c-809b-2b0dc7f4ecc2",
   "metadata": {},
   "outputs": [],
   "source": []
  },
  {
   "cell_type": "markdown",
   "id": "963141b9-4ec3-4ffb-800d-b742e5c82644",
   "metadata": {},
   "source": [
    "---\n",
    "\n",
    "### Section 2\n",
    "\n",
    "#### Exercise 2.1 "
   ]
  },
  {
   "cell_type": "code",
   "execution_count": null,
   "id": "b624ffca-9361-47d4-8a41-8cd308c39adf",
   "metadata": {},
   "outputs": [],
   "source": []
  }
 ],
 "metadata": {
  "kernelspec": {
   "display_name": "Python 3 (ipykernel)",
   "language": "python",
   "name": "python3"
  },
  "language_info": {
   "codemirror_mode": {
    "name": "ipython",
    "version": 3
   },
   "file_extension": ".py",
   "mimetype": "text/x-python",
   "name": "python",
   "nbconvert_exporter": "python",
   "pygments_lexer": "ipython3",
   "version": "3.9.12"
  }
 },
 "nbformat": 4,
 "nbformat_minor": 5
}
